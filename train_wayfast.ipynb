{
 "cells": [
  {
   "cell_type": "code",
   "execution_count": 10,
   "metadata": {},
   "outputs": [],
   "source": [
    "import numpy as np\n",
    "\n",
    "import torch\n",
    "from torch.utils.data import DataLoader\n",
    "import torchvision.transforms as transforms\n",
    "\n",
    "from models.travnet import TravNet\n",
    "from utils.dataloader import CoTDataset\n",
    "\n",
    "import matplotlib.pyplot as plt\n",
    "\n",
    "%matplotlib inline"
   ]
  },
  {
   "cell_type": "markdown",
   "metadata": {},
   "source": [
    "## Initialization"
   ]
  },
  {
   "cell_type": "code",
   "execution_count": 11,
   "metadata": {},
   "outputs": [],
   "source": [
    "class Object(object):\n",
    "    pass\n",
    "\n",
    "params = Object()\n",
    "# dataset parameters\n",
    "params.train_data_path  = r'D:\\data_valid\\data_valid'\n",
    "# params.valid_data_path  = r'D:\\data_valid\\data_valid'\n",
    "params.csv_file         = 'data.csv'\n",
    "params.preproc          = True  # Vertical flip augmentation\n",
    "params.compute_stats    = False\n",
    "params.depth_mean       = 1.295778\n",
    "params.depth_std        = 3.441738\n",
    "\n",
    "# training parameters\n",
    "params.seed             = 230\n",
    "params.epochs           = 50\n",
    "params.batch_size       = 16\n",
    "params.learning_rate    = 1e-4\n",
    "params.weight_decay     = 1e-5\n",
    "\n",
    "# model parameters\n",
    "params.pretrained = True\n",
    "params.load_network_path = r'D:\\data_valid\\checkpoints\\best_wayfast.pth' \n",
    "params.input_size       = (336, 188)\n",
    "params.output_size      = (336, 188)\n",
    "params.output_channels  = 1\n",
    "params.bottleneck_dim   = 256"
   ]
  },
  {
   "cell_type": "code",
   "execution_count": 12,
   "metadata": {},
   "outputs": [
    {
     "name": "stdout",
     "output_type": "stream",
     "text": [
      "device: cpu\n"
     ]
    }
   ],
   "source": [
    "torch.manual_seed(params.seed)\n",
    "if torch.cuda.is_available():\n",
    "    torch.cuda.manual_seed(params.seed)\n",
    "\n",
    "device = torch.device(\"cuda:0\" if torch.cuda.is_available() else \"cpu\")\n",
    "print(\"device:\", device)"
   ]
  },
  {
   "cell_type": "code",
   "execution_count": 13,
   "metadata": {},
   "outputs": [
    {
     "name": "stderr",
     "output_type": "stream",
     "text": [
      "C:\\Users\\pedro\\AppData\\Local\\Packages\\PythonSoftwareFoundation.Python.3.10_qbz5n2kfra8p0\\LocalCache\\local-packages\\Python310\\site-packages\\torchvision\\models\\_utils.py:208: UserWarning: The parameter 'pretrained' is deprecated since 0.13 and may be removed in the future, please use 'weights' instead.\n",
      "  warnings.warn(\n",
      "C:\\Users\\pedro\\AppData\\Local\\Packages\\PythonSoftwareFoundation.Python.3.10_qbz5n2kfra8p0\\LocalCache\\local-packages\\Python310\\site-packages\\torchvision\\models\\_utils.py:223: UserWarning: Arguments other than a weight enum or `None` for 'weights' are deprecated since 0.13 and may be removed in the future. The current behavior is equivalent to passing `weights=ResNet18_Weights.IMAGENET1K_V1`. You can also use `weights=ResNet18_Weights.DEFAULT` to get the most up-to-date weights.\n",
      "  warnings.warn(msg)\n"
     ]
    },
    {
     "name": "stdout",
     "output_type": "stream",
     "text": [
      "Loading saved network from D:\\data_valid\\checkpoints\\best_wayfast.pth\n"
     ]
    }
   ],
   "source": [
    "net = TravNet(params).to(device)\n",
    "\n",
    "# use to load a previously trained network\n",
    "if params.load_network_path is not None:\n",
    "    print('Loading saved network from {}'.format(params.load_network_path))\n",
    "    net.load_state_dict(torch.load(params.load_network_path))\n",
    "\n",
    "if torch.cuda.device_count() > 1:\n",
    "    print(\"Let's use\", torch.cuda.device_count(), \"GPUs!\")\n",
    "\n",
    "net = torch.nn.DataParallel(net).to(device)\n",
    "# else:\n",
    "#     print(\"Using a single GPU...\")\n",
    "#     net = net.to(device)"
   ]
  },
  {
   "cell_type": "code",
   "execution_count": 14,
   "metadata": {},
   "outputs": [
    {
     "name": "stdout",
     "output_type": "stream",
     "text": [
      "test.shape: torch.Size([16, 1, 188, 336])\n"
     ]
    }
   ],
   "source": [
    "rgb_test = torch.rand([params.batch_size, 3, params.input_size[1], params.input_size[0]]).to(device)\n",
    "depth_test = torch.rand([params.batch_size, 2, params.input_size[1], params.input_size[0]]).to(device)\n",
    "test = net(rgb_test, depth_test)\n",
    "print('test.shape:', test.shape)"
   ]
  },
  {
   "cell_type": "code",
   "execution_count": 15,
   "metadata": {},
   "outputs": [
    {
     "name": "stdout",
     "output_type": "stream",
     "text": [
      "Initializing dataset\n",
      "weights: [0.80546092 1.         1.         1.         0.19453908]\n",
      "bins: [0.  0.2 0.4 0.6 0.8 1. ]\n",
      "Loaded 2996 train images\n"
     ]
    }
   ],
   "source": [
    "transform = transforms.Compose([\n",
    "            transforms.ToPILImage(),\n",
    "            transforms.ColorJitter(brightness=0.2, contrast=0.2, saturation=0.2, hue=0.2),\n",
    "            transforms.ToTensor(),\n",
    "            transforms.Normalize(mean=[0.485, 0.456, 0.406], std=[0.229, 0.224, 0.225]),\n",
    "            ])\n",
    "\n",
    "train_dataset = CoTDataset(params, params.train_data_path, transform)\n",
    "# valid_dataset = CoTDataset(params, params.valid_data_path, transform)\n",
    "\n",
    "train_loader = DataLoader(train_dataset, batch_size=params.batch_size, shuffle=True, num_workers=1)\n",
    "# valid_loader = DataLoader(valid_dataset, batch_size=params.batch_size, shuffle=True, num_workers=1)\n",
    "\n",
    "print('Loaded %d train images' % len(train_dataset))\n",
    "# print('Loaded %d valid images' % len(valid_dataset))"
   ]
  },
  {
   "cell_type": "code",
   "execution_count": 16,
   "metadata": {},
   "outputs": [],
   "source": [
    "data = train_dataset[0]"
   ]
  },
  {
   "cell_type": "markdown",
   "metadata": {},
   "source": [
    "## Set up training tools"
   ]
  },
  {
   "cell_type": "code",
   "execution_count": 17,
   "metadata": {},
   "outputs": [],
   "source": [
    "criterion = torch.nn.L1Loss(reduction='none')\n",
    "optimizer = torch.optim.Adam(net.parameters(), lr=params.learning_rate, weight_decay=params.weight_decay)"
   ]
  },
  {
   "cell_type": "markdown",
   "metadata": {},
   "source": [
    "## Train detector"
   ]
  },
  {
   "cell_type": "code",
   "execution_count": 18,
   "metadata": {
    "scrolled": false
   },
   "outputs": [],
   "source": [
    "best_val_loss = np.inf\n",
    "train_loss_list = []\n",
    "val_loss_list = []\n",
    "for epoch in range(params.epochs):\n",
    "\n",
    "    net.train()    \n",
    "    train_loss = 0.0\n",
    "    for i, data in enumerate(train_loader):\n",
    "        data = (item.to(device).type(torch.float32) for item in data)\n",
    "        color_img, depth_img, path_img, cot_img, weight = data\n",
    "\n",
    "        pred = net(color_img, depth_img)\n",
    "\n",
    "        label = cot_img\n",
    "\n",
    "        loss = weight*criterion(pred*path_img, label)\n",
    "        loss = torch.mean(loss)\n",
    "        \n",
    "        optimizer.zero_grad()\n",
    "        loss.backward()\n",
    "        optimizer.step()\n",
    "\n",
    "        train_loss += loss.item()\n",
    "    train_loss /= len(train_loader)\n",
    "    train_loss_list.append(train_loss)\n",
    "        \n",
    "    if (epoch) % 10 == 0:\n",
    "        outstring = 'Epoch [%d/%d], Loss: ' % (epoch+1, params.epochs)\n",
    "        print(outstring, train_loss)\n",
    "        print('Learning Rate for this epoch: {}'.format(optimizer.param_groups[0]['lr']))\n",
    "    \n",
    "    # evaluate the network on the test data\n",
    "    with torch.no_grad():\n",
    "        val_loss = 0.0\n",
    "        net.eval()\n",
    "        for i, data in enumerate(train_loader):\n",
    "            data = (item.to(device).type(torch.float32) for item in data)\n",
    "            color_img, depth_img, path_img, cot_img, weight = data\n",
    "\n",
    "            pred = net(color_img, depth_img)\n",
    "\n",
    "            label = cot_img\n",
    "\n",
    "            loss = weight*criterion(pred*path_img, label)\n",
    "            loss = torch.mean(loss)\n",
    "\n",
    "            val_loss += loss.item()\n",
    "        val_loss /= len(train_loader)\n",
    "        val_loss_list.append(val_loss)\n",
    "\n",
    "\n",
    "    plt.figure(figsize=(14,14))\n",
    "    plt.subplot(1, 3, 1)\n",
    "    denormalized_color_img = color_img[0].cpu().numpy()\n",
    "    for i in range(3):\n",
    "        denormalized_color_img[i] = denormalized_color_img[i] * 0.225 + 0.406\n",
    "    # Certifique-se de que os valores estejam no intervalo [0, 1]\n",
    "    denormalized_color_img = np.clip(denormalized_color_img, 0, 1)\n",
    "    # Exiba a imagem denormalizada\n",
    "    plt.imshow(np.transpose(denormalized_color_img, (1, 2, 0)))\n",
    "    plt.imshow(color_img[0].permute(1, 2, 0).cpu().numpy())\n",
    "    plt.subplot(1, 3, 2)\n",
    "    plt.imshow(pred[0,0,:,:].detach().cpu().numpy(), vmin=0, vmax=1)\n",
    "    plt.show(block=False)\n",
    "    \n",
    "    # # if (epoch + 1) % 5 == 0:\n",
    "    #     plt.figure(figsize=(14,14))\n",
    "    #     plt.subplot(1, 3, 1)\n",
    "    #     plt.imshow(color_img[0].permute(1, 2, 0).cpu().numpy())\n",
    "    #     plt.subplot(1, 3, 2)\n",
    "    #     plt.imshow(pred[0,0,:,:].detach().cpu().numpy(), vmin=0, vmax=1)\n",
    "    #     plt.show(block=False)\n",
    "    \n",
    "    if best_val_loss > val_loss:\n",
    "        best_val_loss = val_loss\n",
    "        print('Updating best test loss: %.5f' % best_val_loss)\n",
    "        torch.save(net.module.state_dict(), r'D:\\data_valid\\checkpoints\\best_wayfast.pth')\n",
    "\n",
    "torch.save(net.module.state_dict(), r'D:\\data_valid\\checkpoints\\wayfast.pth')"
   ]
  }
 ],
 "metadata": {
  "interpreter": {
   "hash": "31f2aee4e71d21fbe5cf8b01ff0e069b9275f58929596ceb00d14d90e3e16cd6"
  },
  "kernelspec": {
   "display_name": "Python 3.8.10 64-bit",
   "name": "python3"
  },
  "language_info": {
   "codemirror_mode": {
    "name": "ipython",
    "version": 3
   },
   "file_extension": ".py",
   "mimetype": "text/x-python",
   "name": "python",
   "nbconvert_exporter": "python",
   "pygments_lexer": "ipython3",
   "version": "3.10.11"
  }
 },
 "nbformat": 4,
 "nbformat_minor": 2
}
